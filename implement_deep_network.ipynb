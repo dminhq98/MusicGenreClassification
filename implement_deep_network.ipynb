{
  "nbformat": 4,
  "nbformat_minor": 0,
  "metadata": {
    "colab": {
      "name": "implement_deep_network.ipynb",
      "provenance": [],
      "toc_visible": true,
      "authorship_tag": "ABX9TyPg7vpnxIBqvrvu/Kk+ruyu",
      "include_colab_link": true
    },
    "kernelspec": {
      "name": "python3",
      "display_name": "Python 3"
    },
    "widgets": {
      "application/vnd.jupyter.widget-state+json": {
        "456a7f793dc54abcbf8a39793cb0b89d": {
          "model_module": "@jupyter-widgets/controls",
          "model_name": "HBoxModel",
          "state": {
            "_view_name": "HBoxView",
            "_dom_classes": [],
            "_model_name": "HBoxModel",
            "_view_module": "@jupyter-widgets/controls",
            "_model_module_version": "1.5.0",
            "_view_count": null,
            "_view_module_version": "1.5.0",
            "box_style": "",
            "layout": "IPY_MODEL_685f1eda33cc4235aa90b0c1c88c2dd3",
            "_model_module": "@jupyter-widgets/controls",
            "children": [
              "IPY_MODEL_6986f426b0a44a9e84b242d5ff1aead3",
              "IPY_MODEL_498cd1e28b2246b7ac5af71c096de910"
            ]
          }
        },
        "685f1eda33cc4235aa90b0c1c88c2dd3": {
          "model_module": "@jupyter-widgets/base",
          "model_name": "LayoutModel",
          "state": {
            "_view_name": "LayoutView",
            "grid_template_rows": null,
            "right": null,
            "justify_content": null,
            "_view_module": "@jupyter-widgets/base",
            "overflow": null,
            "_model_module_version": "1.2.0",
            "_view_count": null,
            "flex_flow": null,
            "width": null,
            "min_width": null,
            "border": null,
            "align_items": null,
            "bottom": null,
            "_model_module": "@jupyter-widgets/base",
            "top": null,
            "grid_column": null,
            "overflow_y": null,
            "overflow_x": null,
            "grid_auto_flow": null,
            "grid_area": null,
            "grid_template_columns": null,
            "flex": null,
            "_model_name": "LayoutModel",
            "justify_items": null,
            "grid_row": null,
            "max_height": null,
            "align_content": null,
            "visibility": null,
            "align_self": null,
            "height": null,
            "min_height": null,
            "padding": null,
            "grid_auto_rows": null,
            "grid_gap": null,
            "max_width": null,
            "order": null,
            "_view_module_version": "1.2.0",
            "grid_template_areas": null,
            "object_position": null,
            "object_fit": null,
            "grid_auto_columns": null,
            "margin": null,
            "display": null,
            "left": null
          }
        },
        "6986f426b0a44a9e84b242d5ff1aead3": {
          "model_module": "@jupyter-widgets/controls",
          "model_name": "IntProgressModel",
          "state": {
            "_view_name": "ProgressView",
            "style": "IPY_MODEL_9ef8dc37176a48d9abc9836eb3baca00",
            "_dom_classes": [],
            "description": "",
            "_model_name": "IntProgressModel",
            "bar_style": "success",
            "max": 1,
            "_view_module": "@jupyter-widgets/controls",
            "_model_module_version": "1.5.0",
            "value": 1,
            "_view_count": null,
            "_view_module_version": "1.5.0",
            "orientation": "horizontal",
            "min": 0,
            "description_tooltip": null,
            "_model_module": "@jupyter-widgets/controls",
            "layout": "IPY_MODEL_b5266b501cd9485fb25957996e7180c4"
          }
        },
        "498cd1e28b2246b7ac5af71c096de910": {
          "model_module": "@jupyter-widgets/controls",
          "model_name": "HTMLModel",
          "state": {
            "_view_name": "HTMLView",
            "style": "IPY_MODEL_1a0834ebcf084cde94cac056c4132b63",
            "_dom_classes": [],
            "description": "",
            "_model_name": "HTMLModel",
            "placeholder": "​",
            "_view_module": "@jupyter-widgets/controls",
            "_model_module_version": "1.5.0",
            "value": " 9920512/? [00:01&lt;00:00, 6021178.52it/s]",
            "_view_count": null,
            "_view_module_version": "1.5.0",
            "description_tooltip": null,
            "_model_module": "@jupyter-widgets/controls",
            "layout": "IPY_MODEL_23413771ec1441899143a971df536b51"
          }
        },
        "9ef8dc37176a48d9abc9836eb3baca00": {
          "model_module": "@jupyter-widgets/controls",
          "model_name": "ProgressStyleModel",
          "state": {
            "_view_name": "StyleView",
            "_model_name": "ProgressStyleModel",
            "description_width": "initial",
            "_view_module": "@jupyter-widgets/base",
            "_model_module_version": "1.5.0",
            "_view_count": null,
            "_view_module_version": "1.2.0",
            "bar_color": null,
            "_model_module": "@jupyter-widgets/controls"
          }
        },
        "b5266b501cd9485fb25957996e7180c4": {
          "model_module": "@jupyter-widgets/base",
          "model_name": "LayoutModel",
          "state": {
            "_view_name": "LayoutView",
            "grid_template_rows": null,
            "right": null,
            "justify_content": null,
            "_view_module": "@jupyter-widgets/base",
            "overflow": null,
            "_model_module_version": "1.2.0",
            "_view_count": null,
            "flex_flow": null,
            "width": null,
            "min_width": null,
            "border": null,
            "align_items": null,
            "bottom": null,
            "_model_module": "@jupyter-widgets/base",
            "top": null,
            "grid_column": null,
            "overflow_y": null,
            "overflow_x": null,
            "grid_auto_flow": null,
            "grid_area": null,
            "grid_template_columns": null,
            "flex": null,
            "_model_name": "LayoutModel",
            "justify_items": null,
            "grid_row": null,
            "max_height": null,
            "align_content": null,
            "visibility": null,
            "align_self": null,
            "height": null,
            "min_height": null,
            "padding": null,
            "grid_auto_rows": null,
            "grid_gap": null,
            "max_width": null,
            "order": null,
            "_view_module_version": "1.2.0",
            "grid_template_areas": null,
            "object_position": null,
            "object_fit": null,
            "grid_auto_columns": null,
            "margin": null,
            "display": null,
            "left": null
          }
        },
        "1a0834ebcf084cde94cac056c4132b63": {
          "model_module": "@jupyter-widgets/controls",
          "model_name": "DescriptionStyleModel",
          "state": {
            "_view_name": "StyleView",
            "_model_name": "DescriptionStyleModel",
            "description_width": "",
            "_view_module": "@jupyter-widgets/base",
            "_model_module_version": "1.5.0",
            "_view_count": null,
            "_view_module_version": "1.2.0",
            "_model_module": "@jupyter-widgets/controls"
          }
        },
        "23413771ec1441899143a971df536b51": {
          "model_module": "@jupyter-widgets/base",
          "model_name": "LayoutModel",
          "state": {
            "_view_name": "LayoutView",
            "grid_template_rows": null,
            "right": null,
            "justify_content": null,
            "_view_module": "@jupyter-widgets/base",
            "overflow": null,
            "_model_module_version": "1.2.0",
            "_view_count": null,
            "flex_flow": null,
            "width": null,
            "min_width": null,
            "border": null,
            "align_items": null,
            "bottom": null,
            "_model_module": "@jupyter-widgets/base",
            "top": null,
            "grid_column": null,
            "overflow_y": null,
            "overflow_x": null,
            "grid_auto_flow": null,
            "grid_area": null,
            "grid_template_columns": null,
            "flex": null,
            "_model_name": "LayoutModel",
            "justify_items": null,
            "grid_row": null,
            "max_height": null,
            "align_content": null,
            "visibility": null,
            "align_self": null,
            "height": null,
            "min_height": null,
            "padding": null,
            "grid_auto_rows": null,
            "grid_gap": null,
            "max_width": null,
            "order": null,
            "_view_module_version": "1.2.0",
            "grid_template_areas": null,
            "object_position": null,
            "object_fit": null,
            "grid_auto_columns": null,
            "margin": null,
            "display": null,
            "left": null
          }
        },
        "65a58a3595554abcafb75be2abfd69f3": {
          "model_module": "@jupyter-widgets/controls",
          "model_name": "HBoxModel",
          "state": {
            "_view_name": "HBoxView",
            "_dom_classes": [],
            "_model_name": "HBoxModel",
            "_view_module": "@jupyter-widgets/controls",
            "_model_module_version": "1.5.0",
            "_view_count": null,
            "_view_module_version": "1.5.0",
            "box_style": "",
            "layout": "IPY_MODEL_8a31b142624347afb41472bd5eb81dab",
            "_model_module": "@jupyter-widgets/controls",
            "children": [
              "IPY_MODEL_863ed8fd03a6456eaae5f81b21147a76",
              "IPY_MODEL_f7913e7a3b1f4add8a2494048a042f24"
            ]
          }
        },
        "8a31b142624347afb41472bd5eb81dab": {
          "model_module": "@jupyter-widgets/base",
          "model_name": "LayoutModel",
          "state": {
            "_view_name": "LayoutView",
            "grid_template_rows": null,
            "right": null,
            "justify_content": null,
            "_view_module": "@jupyter-widgets/base",
            "overflow": null,
            "_model_module_version": "1.2.0",
            "_view_count": null,
            "flex_flow": null,
            "width": null,
            "min_width": null,
            "border": null,
            "align_items": null,
            "bottom": null,
            "_model_module": "@jupyter-widgets/base",
            "top": null,
            "grid_column": null,
            "overflow_y": null,
            "overflow_x": null,
            "grid_auto_flow": null,
            "grid_area": null,
            "grid_template_columns": null,
            "flex": null,
            "_model_name": "LayoutModel",
            "justify_items": null,
            "grid_row": null,
            "max_height": null,
            "align_content": null,
            "visibility": null,
            "align_self": null,
            "height": null,
            "min_height": null,
            "padding": null,
            "grid_auto_rows": null,
            "grid_gap": null,
            "max_width": null,
            "order": null,
            "_view_module_version": "1.2.0",
            "grid_template_areas": null,
            "object_position": null,
            "object_fit": null,
            "grid_auto_columns": null,
            "margin": null,
            "display": null,
            "left": null
          }
        },
        "863ed8fd03a6456eaae5f81b21147a76": {
          "model_module": "@jupyter-widgets/controls",
          "model_name": "IntProgressModel",
          "state": {
            "_view_name": "ProgressView",
            "style": "IPY_MODEL_904e6a4024de4f58bf812332392d734d",
            "_dom_classes": [],
            "description": "",
            "_model_name": "IntProgressModel",
            "bar_style": "success",
            "max": 1,
            "_view_module": "@jupyter-widgets/controls",
            "_model_module_version": "1.5.0",
            "value": 1,
            "_view_count": null,
            "_view_module_version": "1.5.0",
            "orientation": "horizontal",
            "min": 0,
            "description_tooltip": null,
            "_model_module": "@jupyter-widgets/controls",
            "layout": "IPY_MODEL_df4293becb9844e0b2011453edeebf1e"
          }
        },
        "f7913e7a3b1f4add8a2494048a042f24": {
          "model_module": "@jupyter-widgets/controls",
          "model_name": "HTMLModel",
          "state": {
            "_view_name": "HTMLView",
            "style": "IPY_MODEL_eb58b46d4c8940a59559a9aca78d8bd1",
            "_dom_classes": [],
            "description": "",
            "_model_name": "HTMLModel",
            "placeholder": "​",
            "_view_module": "@jupyter-widgets/controls",
            "_model_module_version": "1.5.0",
            "value": " 32768/? [00:01&lt;00:00, 31847.70it/s]",
            "_view_count": null,
            "_view_module_version": "1.5.0",
            "description_tooltip": null,
            "_model_module": "@jupyter-widgets/controls",
            "layout": "IPY_MODEL_b5fe1df0dd124b7a85f2b9e6ac23cfe7"
          }
        },
        "904e6a4024de4f58bf812332392d734d": {
          "model_module": "@jupyter-widgets/controls",
          "model_name": "ProgressStyleModel",
          "state": {
            "_view_name": "StyleView",
            "_model_name": "ProgressStyleModel",
            "description_width": "initial",
            "_view_module": "@jupyter-widgets/base",
            "_model_module_version": "1.5.0",
            "_view_count": null,
            "_view_module_version": "1.2.0",
            "bar_color": null,
            "_model_module": "@jupyter-widgets/controls"
          }
        },
        "df4293becb9844e0b2011453edeebf1e": {
          "model_module": "@jupyter-widgets/base",
          "model_name": "LayoutModel",
          "state": {
            "_view_name": "LayoutView",
            "grid_template_rows": null,
            "right": null,
            "justify_content": null,
            "_view_module": "@jupyter-widgets/base",
            "overflow": null,
            "_model_module_version": "1.2.0",
            "_view_count": null,
            "flex_flow": null,
            "width": null,
            "min_width": null,
            "border": null,
            "align_items": null,
            "bottom": null,
            "_model_module": "@jupyter-widgets/base",
            "top": null,
            "grid_column": null,
            "overflow_y": null,
            "overflow_x": null,
            "grid_auto_flow": null,
            "grid_area": null,
            "grid_template_columns": null,
            "flex": null,
            "_model_name": "LayoutModel",
            "justify_items": null,
            "grid_row": null,
            "max_height": null,
            "align_content": null,
            "visibility": null,
            "align_self": null,
            "height": null,
            "min_height": null,
            "padding": null,
            "grid_auto_rows": null,
            "grid_gap": null,
            "max_width": null,
            "order": null,
            "_view_module_version": "1.2.0",
            "grid_template_areas": null,
            "object_position": null,
            "object_fit": null,
            "grid_auto_columns": null,
            "margin": null,
            "display": null,
            "left": null
          }
        },
        "eb58b46d4c8940a59559a9aca78d8bd1": {
          "model_module": "@jupyter-widgets/controls",
          "model_name": "DescriptionStyleModel",
          "state": {
            "_view_name": "StyleView",
            "_model_name": "DescriptionStyleModel",
            "description_width": "",
            "_view_module": "@jupyter-widgets/base",
            "_model_module_version": "1.5.0",
            "_view_count": null,
            "_view_module_version": "1.2.0",
            "_model_module": "@jupyter-widgets/controls"
          }
        },
        "b5fe1df0dd124b7a85f2b9e6ac23cfe7": {
          "model_module": "@jupyter-widgets/base",
          "model_name": "LayoutModel",
          "state": {
            "_view_name": "LayoutView",
            "grid_template_rows": null,
            "right": null,
            "justify_content": null,
            "_view_module": "@jupyter-widgets/base",
            "overflow": null,
            "_model_module_version": "1.2.0",
            "_view_count": null,
            "flex_flow": null,
            "width": null,
            "min_width": null,
            "border": null,
            "align_items": null,
            "bottom": null,
            "_model_module": "@jupyter-widgets/base",
            "top": null,
            "grid_column": null,
            "overflow_y": null,
            "overflow_x": null,
            "grid_auto_flow": null,
            "grid_area": null,
            "grid_template_columns": null,
            "flex": null,
            "_model_name": "LayoutModel",
            "justify_items": null,
            "grid_row": null,
            "max_height": null,
            "align_content": null,
            "visibility": null,
            "align_self": null,
            "height": null,
            "min_height": null,
            "padding": null,
            "grid_auto_rows": null,
            "grid_gap": null,
            "max_width": null,
            "order": null,
            "_view_module_version": "1.2.0",
            "grid_template_areas": null,
            "object_position": null,
            "object_fit": null,
            "grid_auto_columns": null,
            "margin": null,
            "display": null,
            "left": null
          }
        },
        "ad9b5c94a48746aa80f15ce8eb915e5a": {
          "model_module": "@jupyter-widgets/controls",
          "model_name": "HBoxModel",
          "state": {
            "_view_name": "HBoxView",
            "_dom_classes": [],
            "_model_name": "HBoxModel",
            "_view_module": "@jupyter-widgets/controls",
            "_model_module_version": "1.5.0",
            "_view_count": null,
            "_view_module_version": "1.5.0",
            "box_style": "",
            "layout": "IPY_MODEL_36076da89cbf4603b6c1eb61ebec82b7",
            "_model_module": "@jupyter-widgets/controls",
            "children": [
              "IPY_MODEL_4ab38fd281b9421f88f49bfba726d767",
              "IPY_MODEL_e0f7c18a2eb94ba186e2ce934bf9f225"
            ]
          }
        },
        "36076da89cbf4603b6c1eb61ebec82b7": {
          "model_module": "@jupyter-widgets/base",
          "model_name": "LayoutModel",
          "state": {
            "_view_name": "LayoutView",
            "grid_template_rows": null,
            "right": null,
            "justify_content": null,
            "_view_module": "@jupyter-widgets/base",
            "overflow": null,
            "_model_module_version": "1.2.0",
            "_view_count": null,
            "flex_flow": null,
            "width": null,
            "min_width": null,
            "border": null,
            "align_items": null,
            "bottom": null,
            "_model_module": "@jupyter-widgets/base",
            "top": null,
            "grid_column": null,
            "overflow_y": null,
            "overflow_x": null,
            "grid_auto_flow": null,
            "grid_area": null,
            "grid_template_columns": null,
            "flex": null,
            "_model_name": "LayoutModel",
            "justify_items": null,
            "grid_row": null,
            "max_height": null,
            "align_content": null,
            "visibility": null,
            "align_self": null,
            "height": null,
            "min_height": null,
            "padding": null,
            "grid_auto_rows": null,
            "grid_gap": null,
            "max_width": null,
            "order": null,
            "_view_module_version": "1.2.0",
            "grid_template_areas": null,
            "object_position": null,
            "object_fit": null,
            "grid_auto_columns": null,
            "margin": null,
            "display": null,
            "left": null
          }
        },
        "4ab38fd281b9421f88f49bfba726d767": {
          "model_module": "@jupyter-widgets/controls",
          "model_name": "IntProgressModel",
          "state": {
            "_view_name": "ProgressView",
            "style": "IPY_MODEL_c2ca078a4c794f46a8952f1c0a4cb494",
            "_dom_classes": [],
            "description": "",
            "_model_name": "IntProgressModel",
            "bar_style": "success",
            "max": 1,
            "_view_module": "@jupyter-widgets/controls",
            "_model_module_version": "1.5.0",
            "value": 1,
            "_view_count": null,
            "_view_module_version": "1.5.0",
            "orientation": "horizontal",
            "min": 0,
            "description_tooltip": null,
            "_model_module": "@jupyter-widgets/controls",
            "layout": "IPY_MODEL_8c689104c8fc472592232c3f81e50b7f"
          }
        },
        "e0f7c18a2eb94ba186e2ce934bf9f225": {
          "model_module": "@jupyter-widgets/controls",
          "model_name": "HTMLModel",
          "state": {
            "_view_name": "HTMLView",
            "style": "IPY_MODEL_ebe98cd2449f4522ac7136b798c3bd42",
            "_dom_classes": [],
            "description": "",
            "_model_name": "HTMLModel",
            "placeholder": "​",
            "_view_module": "@jupyter-widgets/controls",
            "_model_module_version": "1.5.0",
            "value": " 1654784/? [00:00&lt;00:00, 1857267.25it/s]",
            "_view_count": null,
            "_view_module_version": "1.5.0",
            "description_tooltip": null,
            "_model_module": "@jupyter-widgets/controls",
            "layout": "IPY_MODEL_aaa53f0555b44834886df50d944cf1c9"
          }
        },
        "c2ca078a4c794f46a8952f1c0a4cb494": {
          "model_module": "@jupyter-widgets/controls",
          "model_name": "ProgressStyleModel",
          "state": {
            "_view_name": "StyleView",
            "_model_name": "ProgressStyleModel",
            "description_width": "initial",
            "_view_module": "@jupyter-widgets/base",
            "_model_module_version": "1.5.0",
            "_view_count": null,
            "_view_module_version": "1.2.0",
            "bar_color": null,
            "_model_module": "@jupyter-widgets/controls"
          }
        },
        "8c689104c8fc472592232c3f81e50b7f": {
          "model_module": "@jupyter-widgets/base",
          "model_name": "LayoutModel",
          "state": {
            "_view_name": "LayoutView",
            "grid_template_rows": null,
            "right": null,
            "justify_content": null,
            "_view_module": "@jupyter-widgets/base",
            "overflow": null,
            "_model_module_version": "1.2.0",
            "_view_count": null,
            "flex_flow": null,
            "width": null,
            "min_width": null,
            "border": null,
            "align_items": null,
            "bottom": null,
            "_model_module": "@jupyter-widgets/base",
            "top": null,
            "grid_column": null,
            "overflow_y": null,
            "overflow_x": null,
            "grid_auto_flow": null,
            "grid_area": null,
            "grid_template_columns": null,
            "flex": null,
            "_model_name": "LayoutModel",
            "justify_items": null,
            "grid_row": null,
            "max_height": null,
            "align_content": null,
            "visibility": null,
            "align_self": null,
            "height": null,
            "min_height": null,
            "padding": null,
            "grid_auto_rows": null,
            "grid_gap": null,
            "max_width": null,
            "order": null,
            "_view_module_version": "1.2.0",
            "grid_template_areas": null,
            "object_position": null,
            "object_fit": null,
            "grid_auto_columns": null,
            "margin": null,
            "display": null,
            "left": null
          }
        },
        "ebe98cd2449f4522ac7136b798c3bd42": {
          "model_module": "@jupyter-widgets/controls",
          "model_name": "DescriptionStyleModel",
          "state": {
            "_view_name": "StyleView",
            "_model_name": "DescriptionStyleModel",
            "description_width": "",
            "_view_module": "@jupyter-widgets/base",
            "_model_module_version": "1.5.0",
            "_view_count": null,
            "_view_module_version": "1.2.0",
            "_model_module": "@jupyter-widgets/controls"
          }
        },
        "aaa53f0555b44834886df50d944cf1c9": {
          "model_module": "@jupyter-widgets/base",
          "model_name": "LayoutModel",
          "state": {
            "_view_name": "LayoutView",
            "grid_template_rows": null,
            "right": null,
            "justify_content": null,
            "_view_module": "@jupyter-widgets/base",
            "overflow": null,
            "_model_module_version": "1.2.0",
            "_view_count": null,
            "flex_flow": null,
            "width": null,
            "min_width": null,
            "border": null,
            "align_items": null,
            "bottom": null,
            "_model_module": "@jupyter-widgets/base",
            "top": null,
            "grid_column": null,
            "overflow_y": null,
            "overflow_x": null,
            "grid_auto_flow": null,
            "grid_area": null,
            "grid_template_columns": null,
            "flex": null,
            "_model_name": "LayoutModel",
            "justify_items": null,
            "grid_row": null,
            "max_height": null,
            "align_content": null,
            "visibility": null,
            "align_self": null,
            "height": null,
            "min_height": null,
            "padding": null,
            "grid_auto_rows": null,
            "grid_gap": null,
            "max_width": null,
            "order": null,
            "_view_module_version": "1.2.0",
            "grid_template_areas": null,
            "object_position": null,
            "object_fit": null,
            "grid_auto_columns": null,
            "margin": null,
            "display": null,
            "left": null
          }
        },
        "993217b1ebea4c198338306c737033ec": {
          "model_module": "@jupyter-widgets/controls",
          "model_name": "HBoxModel",
          "state": {
            "_view_name": "HBoxView",
            "_dom_classes": [],
            "_model_name": "HBoxModel",
            "_view_module": "@jupyter-widgets/controls",
            "_model_module_version": "1.5.0",
            "_view_count": null,
            "_view_module_version": "1.5.0",
            "box_style": "",
            "layout": "IPY_MODEL_5454ac244d154f5bbc0fc25ff2e39cfc",
            "_model_module": "@jupyter-widgets/controls",
            "children": [
              "IPY_MODEL_b702c1820f6e4edfa2c12f04604a165a",
              "IPY_MODEL_462017e997e94369ac20e5e6ba9cc89f"
            ]
          }
        },
        "5454ac244d154f5bbc0fc25ff2e39cfc": {
          "model_module": "@jupyter-widgets/base",
          "model_name": "LayoutModel",
          "state": {
            "_view_name": "LayoutView",
            "grid_template_rows": null,
            "right": null,
            "justify_content": null,
            "_view_module": "@jupyter-widgets/base",
            "overflow": null,
            "_model_module_version": "1.2.0",
            "_view_count": null,
            "flex_flow": null,
            "width": null,
            "min_width": null,
            "border": null,
            "align_items": null,
            "bottom": null,
            "_model_module": "@jupyter-widgets/base",
            "top": null,
            "grid_column": null,
            "overflow_y": null,
            "overflow_x": null,
            "grid_auto_flow": null,
            "grid_area": null,
            "grid_template_columns": null,
            "flex": null,
            "_model_name": "LayoutModel",
            "justify_items": null,
            "grid_row": null,
            "max_height": null,
            "align_content": null,
            "visibility": null,
            "align_self": null,
            "height": null,
            "min_height": null,
            "padding": null,
            "grid_auto_rows": null,
            "grid_gap": null,
            "max_width": null,
            "order": null,
            "_view_module_version": "1.2.0",
            "grid_template_areas": null,
            "object_position": null,
            "object_fit": null,
            "grid_auto_columns": null,
            "margin": null,
            "display": null,
            "left": null
          }
        },
        "b702c1820f6e4edfa2c12f04604a165a": {
          "model_module": "@jupyter-widgets/controls",
          "model_name": "IntProgressModel",
          "state": {
            "_view_name": "ProgressView",
            "style": "IPY_MODEL_0e46ac779e684d14838835df1f3528ca",
            "_dom_classes": [],
            "description": "",
            "_model_name": "IntProgressModel",
            "bar_style": "success",
            "max": 1,
            "_view_module": "@jupyter-widgets/controls",
            "_model_module_version": "1.5.0",
            "value": 1,
            "_view_count": null,
            "_view_module_version": "1.5.0",
            "orientation": "horizontal",
            "min": 0,
            "description_tooltip": null,
            "_model_module": "@jupyter-widgets/controls",
            "layout": "IPY_MODEL_db2412d47a8c4c5cac9948fe9274d7ef"
          }
        },
        "462017e997e94369ac20e5e6ba9cc89f": {
          "model_module": "@jupyter-widgets/controls",
          "model_name": "HTMLModel",
          "state": {
            "_view_name": "HTMLView",
            "style": "IPY_MODEL_07a9458a3eb443d8be669deabef43772",
            "_dom_classes": [],
            "description": "",
            "_model_name": "HTMLModel",
            "placeholder": "​",
            "_view_module": "@jupyter-widgets/controls",
            "_model_module_version": "1.5.0",
            "value": " 8192/? [00:00&lt;00:00, 13507.63it/s]",
            "_view_count": null,
            "_view_module_version": "1.5.0",
            "description_tooltip": null,
            "_model_module": "@jupyter-widgets/controls",
            "layout": "IPY_MODEL_d176cca7e4cd483aa7a683b511ef5996"
          }
        },
        "0e46ac779e684d14838835df1f3528ca": {
          "model_module": "@jupyter-widgets/controls",
          "model_name": "ProgressStyleModel",
          "state": {
            "_view_name": "StyleView",
            "_model_name": "ProgressStyleModel",
            "description_width": "initial",
            "_view_module": "@jupyter-widgets/base",
            "_model_module_version": "1.5.0",
            "_view_count": null,
            "_view_module_version": "1.2.0",
            "bar_color": null,
            "_model_module": "@jupyter-widgets/controls"
          }
        },
        "db2412d47a8c4c5cac9948fe9274d7ef": {
          "model_module": "@jupyter-widgets/base",
          "model_name": "LayoutModel",
          "state": {
            "_view_name": "LayoutView",
            "grid_template_rows": null,
            "right": null,
            "justify_content": null,
            "_view_module": "@jupyter-widgets/base",
            "overflow": null,
            "_model_module_version": "1.2.0",
            "_view_count": null,
            "flex_flow": null,
            "width": null,
            "min_width": null,
            "border": null,
            "align_items": null,
            "bottom": null,
            "_model_module": "@jupyter-widgets/base",
            "top": null,
            "grid_column": null,
            "overflow_y": null,
            "overflow_x": null,
            "grid_auto_flow": null,
            "grid_area": null,
            "grid_template_columns": null,
            "flex": null,
            "_model_name": "LayoutModel",
            "justify_items": null,
            "grid_row": null,
            "max_height": null,
            "align_content": null,
            "visibility": null,
            "align_self": null,
            "height": null,
            "min_height": null,
            "padding": null,
            "grid_auto_rows": null,
            "grid_gap": null,
            "max_width": null,
            "order": null,
            "_view_module_version": "1.2.0",
            "grid_template_areas": null,
            "object_position": null,
            "object_fit": null,
            "grid_auto_columns": null,
            "margin": null,
            "display": null,
            "left": null
          }
        },
        "07a9458a3eb443d8be669deabef43772": {
          "model_module": "@jupyter-widgets/controls",
          "model_name": "DescriptionStyleModel",
          "state": {
            "_view_name": "StyleView",
            "_model_name": "DescriptionStyleModel",
            "description_width": "",
            "_view_module": "@jupyter-widgets/base",
            "_model_module_version": "1.5.0",
            "_view_count": null,
            "_view_module_version": "1.2.0",
            "_model_module": "@jupyter-widgets/controls"
          }
        },
        "d176cca7e4cd483aa7a683b511ef5996": {
          "model_module": "@jupyter-widgets/base",
          "model_name": "LayoutModel",
          "state": {
            "_view_name": "LayoutView",
            "grid_template_rows": null,
            "right": null,
            "justify_content": null,
            "_view_module": "@jupyter-widgets/base",
            "overflow": null,
            "_model_module_version": "1.2.0",
            "_view_count": null,
            "flex_flow": null,
            "width": null,
            "min_width": null,
            "border": null,
            "align_items": null,
            "bottom": null,
            "_model_module": "@jupyter-widgets/base",
            "top": null,
            "grid_column": null,
            "overflow_y": null,
            "overflow_x": null,
            "grid_auto_flow": null,
            "grid_area": null,
            "grid_template_columns": null,
            "flex": null,
            "_model_name": "LayoutModel",
            "justify_items": null,
            "grid_row": null,
            "max_height": null,
            "align_content": null,
            "visibility": null,
            "align_self": null,
            "height": null,
            "min_height": null,
            "padding": null,
            "grid_auto_rows": null,
            "grid_gap": null,
            "max_width": null,
            "order": null,
            "_view_module_version": "1.2.0",
            "grid_template_areas": null,
            "object_position": null,
            "object_fit": null,
            "grid_auto_columns": null,
            "margin": null,
            "display": null,
            "left": null
          }
        }
      }
    }
  },
  "cells": [
    {
      "cell_type": "markdown",
      "metadata": {
        "id": "view-in-github",
        "colab_type": "text"
      },
      "source": [
        "<a href=\"https://colab.research.google.com/github/dminhq98/MusicGenreClassification/blob/master/implement_deep_network.ipynb\" target=\"_parent\"><img src=\"https://colab.research.google.com/assets/colab-badge.svg\" alt=\"Open In Colab\"/></a>"
      ]
    },
    {
      "cell_type": "code",
      "metadata": {
        "id": "9GREuzamoxhP",
        "colab_type": "code",
        "outputId": "d49bae91-a234-4612-c21d-d32b10f53b69",
        "colab": {
          "base_uri": "https://localhost:8080/",
          "height": 224
        }
      },
      "source": [
        "!wget https://raw.githubusercontent.com/mnielsen/neural-networks-and-deep-learning/master/data/mnist.pkl.gz "
      ],
      "execution_count": 1,
      "outputs": [
        {
          "output_type": "stream",
          "text": [
            "--2020-04-23 03:37:42--  https://raw.githubusercontent.com/mnielsen/neural-networks-and-deep-learning/master/data/mnist.pkl.gz\n",
            "Resolving raw.githubusercontent.com (raw.githubusercontent.com)... 151.101.0.133, 151.101.64.133, 151.101.128.133, ...\n",
            "Connecting to raw.githubusercontent.com (raw.githubusercontent.com)|151.101.0.133|:443... connected.\n",
            "HTTP request sent, awaiting response... 200 OK\n",
            "Length: 17051982 (16M) [application/octet-stream]\n",
            "Saving to: ‘mnist.pkl.gz’\n",
            "\n",
            "mnist.pkl.gz        100%[===================>]  16.26M  33.6MB/s    in 0.5s    \n",
            "\n",
            "2020-04-23 03:37:44 (33.6 MB/s) - ‘mnist.pkl.gz’ saved [17051982/17051982]\n",
            "\n"
          ],
          "name": "stdout"
        }
      ]
    },
    {
      "cell_type": "markdown",
      "metadata": {
        "id": "SqysuTNS4ofC",
        "colab_type": "text"
      },
      "source": [
        "# MNIST dataset"
      ]
    },
    {
      "cell_type": "markdown",
      "metadata": {
        "id": "1hJKTItO4tXO",
        "colab_type": "text"
      },
      "source": [
        "## Nummpy "
      ]
    },
    {
      "cell_type": "code",
      "metadata": {
        "id": "_RWBn97t7J__",
        "colab_type": "code",
        "colab": {}
      },
      "source": [
        "accuracy = {}"
      ],
      "execution_count": 0,
      "outputs": []
    },
    {
      "cell_type": "code",
      "metadata": {
        "id": "6Hj4t5RphEos",
        "colab_type": "code",
        "colab": {}
      },
      "source": [
        "#### Libraries\n",
        "# Standard library\n",
        "import random\n",
        "\n",
        "# Third-party libraries\n",
        "import numpy as np\n",
        "\n",
        "class Network(object):\n",
        "\n",
        "    def __init__(self, sizes):\n",
        "        \"\"\"The list ``sizes`` contains the number of neurons in the\n",
        "        respective layers of the network.  For example, if the list\n",
        "        was [2, 3, 1] then it would be a three-layer network, with the\n",
        "        first layer containing 2 neurons, the second layer 3 neurons,\n",
        "        and the third layer 1 neuron.  The biases and weights for the\n",
        "        network are initialized randomly, using a Gaussian\n",
        "        distribution with mean 0, and variance 1.  Note that the first\n",
        "        layer is assumed to be an input layer, and by convention we\n",
        "        won't set any biases for those neurons, since biases are only\n",
        "        ever used in computing the outputs from later layers.\"\"\"\n",
        "        self.num_layers = len(sizes)\n",
        "        self.sizes = sizes\n",
        "        self.biases = [np.random.randn(y, 1) for y in sizes[1:]]\n",
        "        self.weights = [np.random.randn(y, x)\n",
        "                        for x, y in zip(sizes[:-1], sizes[1:])]\n",
        "\n",
        "    def feedforward(self, a):\n",
        "        \"\"\"Return the output of the network if ``a`` is input.\"\"\"\n",
        "        for b, w in zip(self.biases, self.weights):\n",
        "            a = sigmoid(np.dot(w, a)+b)\n",
        "        return a\n",
        "\n",
        "    def SGD(self, training_data, epochs, mini_batch_size, eta,\n",
        "            test_data=None,key = 'mnist_numpy'):\n",
        "        \"\"\"Train the neural network using mini-batch stochastic\n",
        "        gradient descent.  The ``training_data`` is a list of tuples\n",
        "        ``(x, y)`` representing the training inputs and the desired\n",
        "        outputs.  The other non-optional parameters are\n",
        "        self-explanatory.  If ``test_data`` is provided then the\n",
        "        network will be evaluated against the test data after each\n",
        "        epoch, and partial progress printed out.  This is useful for\n",
        "        tracking progress, but slows things down substantially.\"\"\"\n",
        "    \n",
        "        n = len(training_data)\n",
        "        a = []\n",
        "        for j in range(epochs):\n",
        "            random.shuffle(training_data)\n",
        "            mini_batches = [\n",
        "                training_data[k:k+mini_batch_size]\n",
        "                for k in range(0, n, mini_batch_size)]\n",
        "            for mini_batch in mini_batches:\n",
        "                self.update_mini_batch(mini_batch, eta)\n",
        "            if test_data:\n",
        "                n_test = len(test_data)\n",
        "                acc = self.evaluate(test_data)/n_test\n",
        "                a.append(acc)\n",
        "                print(\"Epoch {0}: acc = {1}\".format(\n",
        "                    j,acc ))\n",
        "            else:\n",
        "                print(\"Epoch {0} complete\".format(j))\n",
        "        accuracy[key] = a\n",
        "\n",
        "    def update_mini_batch(self, mini_batch, eta):\n",
        "        \"\"\"Update the network's weights and biases by applying\n",
        "        gradient descent using backpropagation to a single mini batch.\n",
        "        The ``mini_batch`` is a list of tuples ``(x, y)``, and ``eta``\n",
        "        is the learning rate.\"\"\"\n",
        "        nabla_b = [np.zeros(b.shape) for b in self.biases]\n",
        "        nabla_w = [np.zeros(w.shape) for w in self.weights]\n",
        "        for x, y in mini_batch:\n",
        "            delta_nabla_b, delta_nabla_w = self.backprop(x, y)\n",
        "            nabla_b = [nb+dnb for nb, dnb in zip(nabla_b, delta_nabla_b)]\n",
        "            nabla_w = [nw+dnw for nw, dnw in zip(nabla_w, delta_nabla_w)]\n",
        "        self.weights = [w-(eta/len(mini_batch))*nw\n",
        "                        for w, nw in zip(self.weights, nabla_w)]\n",
        "        self.biases = [b-(eta/len(mini_batch))*nb\n",
        "                       for b, nb in zip(self.biases, nabla_b)]\n",
        "\n",
        "    def backprop(self, x, y):\n",
        "        \"\"\"Return a tuple ``(nabla_b, nabla_w)`` representing the\n",
        "        gradient for the cost function C_x.  ``nabla_b`` and\n",
        "        ``nabla_w`` are layer-by-layer lists of numpy arrays, similar\n",
        "        to ``self.biases`` and ``self.weights``.\"\"\"\n",
        "        nabla_b = [np.zeros(b.shape) for b in self.biases]\n",
        "        nabla_w = [np.zeros(w.shape) for w in self.weights]\n",
        "        # feedforward\n",
        "        activation = x\n",
        "        activations = [x] # list to store all the activations, layer by layer\n",
        "        zs = [] # list to store all the z vectors, layer by layer\n",
        "        for b, w in zip(self.biases, self.weights):\n",
        "            z = np.dot(w, activation)+b\n",
        "            zs.append(z)\n",
        "            activation = sigmoid(z)\n",
        "            activations.append(activation)\n",
        "        # backward pass\n",
        "        delta = self.cost_derivative(activations[-1], y) * \\\n",
        "            sigmoid_prime(zs[-1])\n",
        "        nabla_b[-1] = delta\n",
        "        nabla_w[-1] = np.dot(delta, activations[-2].transpose())\n",
        "        # Note that the variable l in the loop below is used a little\n",
        "        # differently to the notation in Chapter 2 of the book.  Here,\n",
        "        # l = 1 means the last layer of neurons, l = 2 is the\n",
        "        # second-last layer, and so on.  It's a renumbering of the\n",
        "        # scheme in the book, used here to take advantage of the fact\n",
        "        # that Python can use negative indices in lists.\n",
        "        for l in range(2, self.num_layers):\n",
        "            z = zs[-l]\n",
        "            sp = sigmoid_prime(z)\n",
        "            delta = np.dot(self.weights[-l+1].transpose(), delta) * sp\n",
        "            nabla_b[-l] = delta\n",
        "            nabla_w[-l] = np.dot(delta, activations[-l-1].transpose())\n",
        "        return (nabla_b, nabla_w)\n",
        "\n",
        "    def evaluate(self, test_data):\n",
        "        \"\"\"Return the number of test inputs for which the neural\n",
        "        network outputs the correct result. Note that the neural\n",
        "        network's output is assumed to be the index of whichever\n",
        "        neuron in the final layer has the highest activation.\"\"\"\n",
        "        test_results = [(np.argmax(self.feedforward(x)), y)\n",
        "                        for (x, y) in test_data]\n",
        "        return sum(int(x == y) for (x, y) in test_results)\n",
        "\n",
        "    def cost_derivative(self, output_activations, y):\n",
        "        \"\"\"Return the vector of partial derivatives \\partial C_x /\n",
        "        \\partial a for the output activations.\"\"\"\n",
        "        return (output_activations-y)\n",
        "\n",
        "#### Miscellaneous functions\n",
        "def sigmoid(z):\n",
        "    \"\"\"The sigmoid function.\"\"\"\n",
        "    return 1.0/(1.0+np.exp(-z))\n",
        "\n",
        "def sigmoid_prime(z):\n",
        "    \"\"\"Derivative of the sigmoid function.\"\"\"\n",
        "    return sigmoid(z)*(1-sigmoid(z))"
      ],
      "execution_count": 0,
      "outputs": []
    },
    {
      "cell_type": "code",
      "metadata": {
        "id": "N8MLZwJtoV58",
        "colab_type": "code",
        "colab": {}
      },
      "source": [
        "# Standard library\n",
        "import pickle\n",
        "import gzip\n",
        "\n",
        "# Third-party libraries\n",
        "import numpy as np\n",
        "\n",
        "def load_data():\n",
        "    \"\"\"Return the MNIST data as a tuple containing the training data,\n",
        "    the validation data, and the test data.\n",
        "\n",
        "    The ``training_data`` is returned as a tuple with two entries.\n",
        "    The first entry contains the actual training images.  This is a\n",
        "    numpy ndarray with 50,000 entries.  Each entry is, in turn, a\n",
        "    numpy ndarray with 784 values, representing the 28 * 28 = 784\n",
        "    pixels in a single MNIST image.\n",
        "\n",
        "    The second entry in the ``training_data`` tuple is a numpy ndarray\n",
        "    containing 50,000 entries.  Those entries are just the digit\n",
        "    values (0...9) for the corresponding images contained in the first\n",
        "    entry of the tuple.\n",
        "\n",
        "    The ``validation_data`` and ``test_data`` are similar, except\n",
        "    each contains only 10,000 images.\n",
        "\n",
        "    This is a nice data format, but for use in neural networks it's\n",
        "    helpful to modify the format of the ``training_data`` a little.\n",
        "    That's done in the wrapper function ``load_data_wrapper()``, see\n",
        "    below.\n",
        "    \"\"\"\n",
        "    f = gzip.open('./mnist.pkl.gz', 'rb')\n",
        "    training_data, validation_data, test_data = pickle.load(f, encoding=\"latin1\")\n",
        "    f.close()\n",
        "    return (training_data, validation_data, test_data)\n",
        "\n",
        "def load_data_wrapper():\n",
        "    \"\"\"Return a tuple containing ``(training_data, validation_data,\n",
        "    test_data)``. Based on ``load_data``, but the format is more\n",
        "    convenient for use in our implementation of neural networks.\n",
        "\n",
        "    In particular, ``training_data`` is a list containing 50,000\n",
        "    2-tuples ``(x, y)``.  ``x`` is a 784-dimensional numpy.ndarray\n",
        "    containing the input image.  ``y`` is a 10-dimensional\n",
        "    numpy.ndarray representing the unit vector corresponding to the\n",
        "    correct digit for ``x``.\n",
        "\n",
        "    ``validation_data`` and ``test_data`` are lists containing 10,000\n",
        "    2-tuples ``(x, y)``.  In each case, ``x`` is a 784-dimensional\n",
        "    numpy.ndarry containing the input image, and ``y`` is the\n",
        "    corresponding classification, i.e., the digit values (integers)\n",
        "    corresponding to ``x``.\n",
        "\n",
        "    Obviously, this means we're using slightly different formats for\n",
        "    the training data and the validation / test data.  These formats\n",
        "    turn out to be the most convenient for use in our neural network\n",
        "    code.\"\"\"\n",
        "    tr_d, va_d, te_d = load_data()\n",
        "    training_inputs = [np.reshape(x, (784, 1)) for x in tr_d[0]]\n",
        "    training_results = [vectorized_result(y) for y in tr_d[1]]\n",
        "    training_data = list(zip(training_inputs, training_results))\n",
        "    validation_inputs = [np.reshape(x, (784, 1)) for x in va_d[0]]\n",
        "    validation_data = list(zip(validation_inputs, va_d[1]))\n",
        "    test_inputs = [np.reshape(x, (784, 1)) for x in te_d[0]]\n",
        "    test_data = list(zip(test_inputs, te_d[1]))\n",
        "    return (training_data, validation_data, test_data)\n",
        "\n",
        "def vectorized_result(j):\n",
        "    \"\"\"Return a 10-dimensional unit vector with a 1.0 in the jth\n",
        "    position and zeroes elsewhere.  This is used to convert a digit\n",
        "    (0...9) into a corresponding desired output from the neural\n",
        "    network.\"\"\"\n",
        "    e = np.zeros((10, 1))\n",
        "    e[j] = 1.0\n",
        "    return e"
      ],
      "execution_count": 0,
      "outputs": []
    },
    {
      "cell_type": "code",
      "metadata": {
        "id": "NLEpc-hInnYW",
        "colab_type": "code",
        "colab": {}
      },
      "source": [
        "training_data, validation_data, test_data =  load_data_wrapper()"
      ],
      "execution_count": 0,
      "outputs": []
    },
    {
      "cell_type": "code",
      "metadata": {
        "id": "0NnoIvvvpxHS",
        "colab_type": "code",
        "outputId": "6b90d3c5-d6d9-419e-ae98-93e3426f23d5",
        "colab": {
          "base_uri": "https://localhost:8080/",
          "height": 544
        }
      },
      "source": [
        "import time\n",
        "network = Network([784, 30, 10])\n",
        "start = time.time()\n",
        "network.SGD(training_data, 30, 10, 0.1, test_data=validation_data,key ='mnist_numpy')\n",
        "end = time.time()\n",
        "print('Time: {}'.format(end-start))"
      ],
      "execution_count": 6,
      "outputs": [
        {
          "output_type": "stream",
          "text": [
            "Epoch 0: acc = 0.5868\n",
            "Epoch 1: acc = 0.7336\n",
            "Epoch 2: acc = 0.8045\n",
            "Epoch 3: acc = 0.8388\n",
            "Epoch 4: acc = 0.8579\n",
            "Epoch 5: acc = 0.8683\n",
            "Epoch 6: acc = 0.8758\n",
            "Epoch 7: acc = 0.8824\n",
            "Epoch 8: acc = 0.8863\n",
            "Epoch 9: acc = 0.8909\n",
            "Epoch 10: acc = 0.8924\n",
            "Epoch 11: acc = 0.8953\n",
            "Epoch 12: acc = 0.8987\n",
            "Epoch 13: acc = 0.9008\n",
            "Epoch 14: acc = 0.9026\n",
            "Epoch 15: acc = 0.905\n",
            "Epoch 16: acc = 0.9065\n",
            "Epoch 17: acc = 0.9094\n",
            "Epoch 18: acc = 0.9101\n",
            "Epoch 19: acc = 0.9119\n",
            "Epoch 20: acc = 0.9133\n",
            "Epoch 21: acc = 0.9138\n",
            "Epoch 22: acc = 0.9154\n",
            "Epoch 23: acc = 0.9163\n",
            "Epoch 24: acc = 0.9173\n",
            "Epoch 25: acc = 0.9177\n",
            "Epoch 26: acc = 0.9198\n",
            "Epoch 27: acc = 0.9205\n",
            "Epoch 28: acc = 0.9212\n",
            "Epoch 29: acc = 0.9224\n",
            "Time: 278.29352355003357\n"
          ],
          "name": "stdout"
        }
      ]
    },
    {
      "cell_type": "markdown",
      "metadata": {
        "id": "kJB3OfVn44-w",
        "colab_type": "text"
      },
      "source": [
        "## Pytorch"
      ]
    },
    {
      "cell_type": "code",
      "metadata": {
        "id": "T0KJP7kira3S",
        "colab_type": "code",
        "colab": {}
      },
      "source": [
        "import torch\n",
        "import torch.nn as nn\n",
        "import torch.nn.functional as F\n",
        "import torch.optim as optim\n",
        "from torch.autograd import Variable\n",
        "from torch.utils.data import DataLoader, Dataset, TensorDataset\n",
        "import torchvision\n",
        "import matplotlib.pyplot as plt"
      ],
      "execution_count": 0,
      "outputs": []
    },
    {
      "cell_type": "code",
      "metadata": {
        "id": "PdD1FViAxjfd",
        "colab_type": "code",
        "colab": {}
      },
      "source": [
        "class Net(nn.Module):\n",
        "    def __init__(self,sizes):\n",
        "        super(Net, self).__init__()\n",
        "        self.num_layers = len(sizes)\n",
        "        self.sizes = sizes\n",
        "        layer = []\n",
        "        for i in range(self.num_layers-1):\n",
        "          layer.append(nn.Linear( self.sizes[i], self.sizes[i+1]))\n",
        "          layer.append(nn.Sigmoid())\n",
        "\n",
        "        self.layers = nn.Sequential(*layer)\n",
        "    \n",
        "    def forward(self, x):\n",
        "      x = self.layers(x)\n",
        "      return x\n",
        "\n",
        "\n"
      ],
      "execution_count": 0,
      "outputs": []
    },
    {
      "cell_type": "code",
      "metadata": {
        "id": "B9jotfLT23IV",
        "colab_type": "code",
        "outputId": "ca63a2ab-02f6-404a-a914-9c7305f37336",
        "colab": {
          "base_uri": "https://localhost:8080/",
          "height": 153
        }
      },
      "source": [
        "net = Net([784,30,10])\n",
        "print(net)"
      ],
      "execution_count": 9,
      "outputs": [
        {
          "output_type": "stream",
          "text": [
            "Net(\n",
            "  (layers): Sequential(\n",
            "    (0): Linear(in_features=784, out_features=30, bias=True)\n",
            "    (1): Sigmoid()\n",
            "    (2): Linear(in_features=30, out_features=10, bias=True)\n",
            "    (3): Sigmoid()\n",
            "  )\n",
            ")\n"
          ],
          "name": "stdout"
        }
      ]
    },
    {
      "cell_type": "code",
      "metadata": {
        "id": "dB45ZCwCwwPU",
        "colab_type": "code",
        "colab": {}
      },
      "source": [
        "def one_hot_embedding(labels, num_classes):\n",
        "    \"\"\"Embedding labels to one-hot form.\n",
        "\n",
        "    Args:\n",
        "      labels: (LongTensor) class labels, sized [N,].\n",
        "      num_classes: (int) number of classes.\n",
        "\n",
        "    Returns:\n",
        "      (tensor) encoded labels, sized [N, #classes].\n",
        "    \"\"\"\n",
        "    y = torch.eye(num_classes) \n",
        "    return y[labels] \n"
      ],
      "execution_count": 0,
      "outputs": []
    },
    {
      "cell_type": "code",
      "metadata": {
        "id": "0yJmt_lWblpC",
        "colab_type": "code",
        "outputId": "7cc82744-ed52-4999-9f41-e873af20a1c9",
        "colab": {
          "base_uri": "https://localhost:8080/",
          "height": 315,
          "referenced_widgets": [
            "456a7f793dc54abcbf8a39793cb0b89d",
            "685f1eda33cc4235aa90b0c1c88c2dd3",
            "6986f426b0a44a9e84b242d5ff1aead3",
            "498cd1e28b2246b7ac5af71c096de910",
            "9ef8dc37176a48d9abc9836eb3baca00",
            "b5266b501cd9485fb25957996e7180c4",
            "1a0834ebcf084cde94cac056c4132b63",
            "23413771ec1441899143a971df536b51",
            "65a58a3595554abcafb75be2abfd69f3",
            "8a31b142624347afb41472bd5eb81dab",
            "863ed8fd03a6456eaae5f81b21147a76",
            "f7913e7a3b1f4add8a2494048a042f24",
            "904e6a4024de4f58bf812332392d734d",
            "df4293becb9844e0b2011453edeebf1e",
            "eb58b46d4c8940a59559a9aca78d8bd1",
            "b5fe1df0dd124b7a85f2b9e6ac23cfe7",
            "ad9b5c94a48746aa80f15ce8eb915e5a",
            "36076da89cbf4603b6c1eb61ebec82b7",
            "4ab38fd281b9421f88f49bfba726d767",
            "e0f7c18a2eb94ba186e2ce934bf9f225",
            "c2ca078a4c794f46a8952f1c0a4cb494",
            "8c689104c8fc472592232c3f81e50b7f",
            "ebe98cd2449f4522ac7136b798c3bd42",
            "aaa53f0555b44834886df50d944cf1c9",
            "993217b1ebea4c198338306c737033ec",
            "5454ac244d154f5bbc0fc25ff2e39cfc",
            "b702c1820f6e4edfa2c12f04604a165a",
            "462017e997e94369ac20e5e6ba9cc89f",
            "0e46ac779e684d14838835df1f3528ca",
            "db2412d47a8c4c5cac9948fe9274d7ef",
            "07a9458a3eb443d8be669deabef43772",
            "d176cca7e4cd483aa7a683b511ef5996"
          ]
        }
      },
      "source": [
        "num_labels = 10\n",
        "dl = DataLoader(torchvision.datasets.MNIST(root='./data', train=True, download=True))\n",
        "\n",
        "tensor = dl.dataset.data\n",
        "tensor = tensor.to(dtype=torch.float32)\n",
        "tr = tensor.reshape(tensor.size(0), -1) \n",
        "tr = tr/128\n",
        "targets = dl.dataset.targets\n",
        "targets = targets.to(dtype=torch.long)\n",
        "\n",
        "x_train = tr[0:50000]\n",
        "y_train = targets[0:50000]\n",
        "x_valid = tr[50000:60000]\n",
        "y_valid = targets[50000:60000]\n",
        "bs=64\n",
        "y_train = one_hot_embedding(y_train, num_labels)\n",
        "y_valid = one_hot_embedding(y_valid, num_labels)\n",
        "train_ds = TensorDataset(x_train, y_train)\n",
        "train_dl = DataLoader(train_ds, batch_size=bs, drop_last=False, shuffle=True)\n",
        "\n",
        "valid_ds = TensorDataset(x_valid, y_valid)\n",
        "valid_dl = DataLoader(valid_ds, batch_size=bs * 2)\n",
        "\n",
        "loaders={}\n",
        "loaders['train'] = train_dl\n",
        "loaders['valid'] = valid_dl"
      ],
      "execution_count": 11,
      "outputs": [
        {
          "output_type": "stream",
          "text": [
            "Downloading http://yann.lecun.com/exdb/mnist/train-images-idx3-ubyte.gz to ./data/MNIST/raw/train-images-idx3-ubyte.gz\n"
          ],
          "name": "stdout"
        },
        {
          "output_type": "display_data",
          "data": {
            "application/vnd.jupyter.widget-view+json": {
              "model_id": "456a7f793dc54abcbf8a39793cb0b89d",
              "version_minor": 0,
              "version_major": 2
            },
            "text/plain": [
              "HBox(children=(IntProgress(value=1, bar_style='info', max=1), HTML(value='')))"
            ]
          },
          "metadata": {
            "tags": []
          }
        },
        {
          "output_type": "stream",
          "text": [
            "Extracting ./data/MNIST/raw/train-images-idx3-ubyte.gz to ./data/MNIST/raw\n",
            "Downloading http://yann.lecun.com/exdb/mnist/train-labels-idx1-ubyte.gz to ./data/MNIST/raw/train-labels-idx1-ubyte.gz\n"
          ],
          "name": "stdout"
        },
        {
          "output_type": "display_data",
          "data": {
            "application/vnd.jupyter.widget-view+json": {
              "model_id": "65a58a3595554abcafb75be2abfd69f3",
              "version_minor": 0,
              "version_major": 2
            },
            "text/plain": [
              "HBox(children=(IntProgress(value=1, bar_style='info', max=1), HTML(value='')))"
            ]
          },
          "metadata": {
            "tags": []
          }
        },
        {
          "output_type": "stream",
          "text": [
            "Extracting ./data/MNIST/raw/train-labels-idx1-ubyte.gz to ./data/MNIST/raw\n",
            "Downloading http://yann.lecun.com/exdb/mnist/t10k-images-idx3-ubyte.gz to ./data/MNIST/raw/t10k-images-idx3-ubyte.gz\n"
          ],
          "name": "stdout"
        },
        {
          "output_type": "display_data",
          "data": {
            "application/vnd.jupyter.widget-view+json": {
              "model_id": "ad9b5c94a48746aa80f15ce8eb915e5a",
              "version_minor": 0,
              "version_major": 2
            },
            "text/plain": [
              "HBox(children=(IntProgress(value=1, bar_style='info', max=1), HTML(value='')))"
            ]
          },
          "metadata": {
            "tags": []
          }
        },
        {
          "output_type": "stream",
          "text": [
            "Extracting ./data/MNIST/raw/t10k-images-idx3-ubyte.gz to ./data/MNIST/raw\n",
            "Downloading http://yann.lecun.com/exdb/mnist/t10k-labels-idx1-ubyte.gz to ./data/MNIST/raw/t10k-labels-idx1-ubyte.gz\n"
          ],
          "name": "stdout"
        },
        {
          "output_type": "display_data",
          "data": {
            "application/vnd.jupyter.widget-view+json": {
              "model_id": "993217b1ebea4c198338306c737033ec",
              "version_minor": 0,
              "version_major": 2
            },
            "text/plain": [
              "HBox(children=(IntProgress(value=1, bar_style='info', max=1), HTML(value='')))"
            ]
          },
          "metadata": {
            "tags": []
          }
        },
        {
          "output_type": "stream",
          "text": [
            "Extracting ./data/MNIST/raw/t10k-labels-idx1-ubyte.gz to ./data/MNIST/raw\n",
            "Processing...\n",
            "Done!\n"
          ],
          "name": "stdout"
        }
      ]
    },
    {
      "cell_type": "code",
      "metadata": {
        "id": "HT4uw-5E6mJ5",
        "colab_type": "code",
        "outputId": "881e1acb-9b1b-4388-ce48-72ced02a0940",
        "colab": {
          "base_uri": "https://localhost:8080/",
          "height": 51
        }
      },
      "source": [
        "def train(model, train_loader, epochs, eta,test_loader=None,key = 'mnist_pytorch'):\n",
        "  optimizer = optim.SGD(model.parameters(), lr=eta)\n",
        "  # create a loss function\n",
        "  criterion = nn.MSELoss()\n",
        "  a = []\n",
        "  for epoch in range(0,epochs):\n",
        "    for i, (data,target) in enumerate(train_loader):\n",
        "        data = data.view(data.shape[0], -1)             \n",
        "        optimizer.zero_grad()\n",
        "        output = model(data)\n",
        "        loss = criterion(output, target)\n",
        "        loss.backward()            \n",
        "        optimizer.step()\n",
        "    if test_loader:\n",
        "        n_test = len(test_data)\n",
        "        acc = evaluate_model(test_loader,model)\n",
        "        a.append(acc)\n",
        "        print(\"Epoch {0}: acc = {1} \".format(\n",
        "            epoch, acc))\n",
        "    else:\n",
        "        print(\"Epoch {0} complete\".format(epoch))\n",
        "  accuracy[key] = a\n",
        "            \n",
        "def evaluate_model(test_dl, model):\n",
        "    predictions, actuals = list(), list()\n",
        "    for i, (inputs, targets) in enumerate(test_dl):\n",
        "        # evaluate the model on the test set\n",
        "        inputs = inputs.view(inputs.shape[0], -1)\n",
        "        yhat = model(inputs)\n",
        "        # retrieve numpy array\n",
        "        yhat = yhat.detach().numpy()\n",
        "        actual = targets.numpy()\n",
        "        # print(len(actual))\n",
        "        # convert to class labels\n",
        "        yhat = argmax(yhat, axis=1)\n",
        "        actual = argmax(actual, axis=1)\n",
        "        # print(len(actual))\n",
        "        # print(yhat[0])\n",
        "        # print(actual[0])\n",
        "        # reshape for stacking\n",
        "        actual = actual.reshape((len(actual), 1))\n",
        "        yhat = yhat.reshape((len(yhat), 1))\n",
        "        # store\n",
        "        predictions.append(yhat)\n",
        "        actuals.append(actual)\n",
        "    predictions, actuals = vstack(predictions), vstack(actuals)\n",
        "    # calculate accuracy\n",
        "    acc = accuracy_score(actuals, predictions)\n",
        "    return acc"
      ],
      "execution_count": 12,
      "outputs": [
        {
          "output_type": "stream",
          "text": [
            "\n",
            "\n"
          ],
          "name": "stdout"
        }
      ]
    },
    {
      "cell_type": "code",
      "metadata": {
        "id": "kfdie78J1A3X",
        "colab_type": "code",
        "outputId": "cced7b44-4891-4c6a-f962-c626f35da72e",
        "colab": {
          "base_uri": "https://localhost:8080/",
          "height": 51
        }
      },
      "source": [
        "from numpy import vstack\n",
        "from numpy import argmax\n",
        "from sklearn.metrics import accuracy_score"
      ],
      "execution_count": 13,
      "outputs": [
        {
          "output_type": "stream",
          "text": [
            "\n",
            "\n"
          ],
          "name": "stdout"
        }
      ]
    },
    {
      "cell_type": "code",
      "metadata": {
        "id": "rD2Y2SFUWebb",
        "colab_type": "code",
        "outputId": "db1117ea-c680-477c-d898-77c0a73943c6",
        "colab": {
          "base_uri": "https://localhost:8080/",
          "height": 544
        }
      },
      "source": [
        "start = time.time()\n",
        "train(net, loaders['train'], 30, 0.1, loaders['valid'],'mnist_pytorch')\n",
        "end = time.time()\n",
        "print('Time: {}'.format(end-start))"
      ],
      "execution_count": 14,
      "outputs": [
        {
          "output_type": "stream",
          "text": [
            "Epoch 0: acc = 0.3204 \n",
            "Epoch 1: acc = 0.4192 \n",
            "Epoch 2: acc = 0.4888 \n",
            "Epoch 3: acc = 0.5375 \n",
            "Epoch 4: acc = 0.6117 \n",
            "Epoch 5: acc = 0.6806 \n",
            "Epoch 6: acc = 0.731 \n",
            "Epoch 7: acc = 0.762 \n",
            "Epoch 8: acc = 0.7909 \n",
            "Epoch 9: acc = 0.8183 \n",
            "Epoch 10: acc = 0.8366 \n",
            "Epoch 11: acc = 0.8489 \n",
            "Epoch 12: acc = 0.8617 \n",
            "Epoch 13: acc = 0.869 \n",
            "Epoch 14: acc = 0.8752 \n",
            "Epoch 15: acc = 0.8809 \n",
            "Epoch 16: acc = 0.8848 \n",
            "Epoch 17: acc = 0.8866 \n",
            "Epoch 18: acc = 0.8904 \n",
            "Epoch 19: acc = 0.8927 \n",
            "Epoch 20: acc = 0.8942 \n",
            "Epoch 21: acc = 0.8953 \n",
            "Epoch 22: acc = 0.8975 \n",
            "Epoch 23: acc = 0.8989 \n",
            "Epoch 24: acc = 0.9014 \n",
            "Epoch 25: acc = 0.9028 \n",
            "Epoch 26: acc = 0.9041 \n",
            "Epoch 27: acc = 0.907 \n",
            "Epoch 28: acc = 0.9081 \n",
            "Epoch 29: acc = 0.9075 \n",
            "Time: 31.343504667282104\n"
          ],
          "name": "stdout"
        }
      ]
    },
    {
      "cell_type": "markdown",
      "metadata": {
        "id": "2mxu-YC6477o",
        "colab_type": "text"
      },
      "source": [
        "# Babyshop dataset"
      ]
    },
    {
      "cell_type": "code",
      "metadata": {
        "id": "WgfWB7AP6uY5",
        "colab_type": "code",
        "colab": {}
      },
      "source": [
        "import os\n",
        "import shutil\n",
        "FJoin = os.path.join\n",
        "from torchvision.datasets.folder import default_loader\n",
        "from sklearn.model_selection import train_test_split\n",
        "from PIL import Image\n",
        "from torchvision import datasets, models, transforms\n"
      ],
      "execution_count": 0,
      "outputs": []
    },
    {
      "cell_type": "code",
      "metadata": {
        "id": "7shEidYw4hKZ",
        "colab_type": "code",
        "outputId": "4bc42806-bd43-46aa-ea33-efed7a3e7472",
        "colab": {
          "base_uri": "https://localhost:8080/",
          "height": 34
        }
      },
      "source": [
        "!pip install googledrivedownloader"
      ],
      "execution_count": 16,
      "outputs": [
        {
          "output_type": "stream",
          "text": [
            "Requirement already satisfied: googledrivedownloader in /usr/local/lib/python3.6/dist-packages (0.4)\n"
          ],
          "name": "stdout"
        }
      ]
    },
    {
      "cell_type": "code",
      "metadata": {
        "id": "-daKMggA5XlX",
        "colab_type": "code",
        "outputId": "208e58d7-f08b-4d61-f631-cc560458be9d",
        "colab": {
          "base_uri": "https://localhost:8080/",
          "height": 51
        }
      },
      "source": [
        "from google_drive_downloader import GoogleDriveDownloader as gdd\n",
        "\n",
        "gdd.download_file_from_google_drive(file_id='1JktvGRdvJCbO9sIdDrnNjJkgISdosh_4',\n",
        "                                    dest_path='./cls_axiom.zip',\n",
        "                                    unzip=True)"
      ],
      "execution_count": 17,
      "outputs": [
        {
          "output_type": "stream",
          "text": [
            "Downloading 1JktvGRdvJCbO9sIdDrnNjJkgISdosh_4 into ./cls_axiom.zip... Done.\n",
            "Unzipping...Done.\n"
          ],
          "name": "stdout"
        }
      ]
    },
    {
      "cell_type": "code",
      "metadata": {
        "id": "vIxsF3945adX",
        "colab_type": "code",
        "colab": {}
      },
      "source": [
        "class ListDataset(torch.utils.data.Dataset):\n",
        "\n",
        "    def __init__(self,\n",
        "                 images_list,\n",
        "                 label,\n",
        "                 transform=None,\n",
        "                 loader=default_loader):\n",
        "        self.images_list = images_list\n",
        "        self.label = label\n",
        "        self.loader = loader\n",
        "        self.transform = transform\n",
        "\n",
        "    def __getitem__(self, index):\n",
        "        image_path = self.images_list[index]\n",
        "        image_label = self.label[index]\n",
        "        image = self.loader(image_path)\n",
        "        if self.transform is not None:\n",
        "            image = self.transform(image)\n",
        "        return image, image_label\n",
        "\n",
        "    def __len__(self):\n",
        "        return len(self.images_list)"
      ],
      "execution_count": 0,
      "outputs": []
    },
    {
      "cell_type": "code",
      "metadata": {
        "id": "KMNHQjxo5096",
        "colab_type": "code",
        "colab": {}
      },
      "source": [
        "class ImageList:\n",
        "    \"\"\"\n",
        "    Get the list of image files and check them in the directory directory\n",
        "    \"\"\"\n",
        "\n",
        "    def check_list_image(self, list_images):\n",
        "        \"\"\"\n",
        "        Check a list of image files, if the image fails then move it to the error_image directory.\n",
        "        \"\"\"\n",
        "        if not os.path.exists('error_image'):\n",
        "            os.makedirs('error_image')\n",
        "        for p in list_images:\n",
        "            try:\n",
        "                Image.open(p)\n",
        "            except IOError:\n",
        "                path_err = 'error_image'\n",
        "                shutil.move(p, path_err)\n",
        "                print(\"file {} error.\".format(p))\n",
        "\n",
        "    def get_list_image(self, path):\n",
        "        \"\"\"\n",
        "        Get a list of image files in a directory.\n",
        "        \"\"\"\n",
        "        file_list = []\n",
        "        for dir, subdirs, files in os.walk(path):\n",
        "            file_list.extend([FJoin(dir, f) for f in files])\n",
        "        file_list = filter(lambda x: not os.path.islink(x), file_list)\n",
        "        self.check_list_image(file_list)\n",
        "        file_list, dir_list = [], []\n",
        "        for dir, subdirs, files in os.walk(path):\n",
        "            file_list.extend([FJoin(dir, f) for f in files])\n",
        "            dir_list.extend([FJoin(dir, d) for d in subdirs])\n",
        "        file_list = filter(lambda x: not os.path.islink(x), file_list)\n",
        "        dir_list = filter(lambda x: not os.path.islink(x), dir_list)\n",
        "        return list(file_list), list(dir_list)"
      ],
      "execution_count": 0,
      "outputs": []
    },
    {
      "cell_type": "code",
      "metadata": {
        "id": "YzQ2oQEa6G2l",
        "colab_type": "code",
        "outputId": "36fdf023-3dae-4ea9-bd23-2228076e4d76",
        "colab": {
          "base_uri": "https://localhost:8080/",
          "height": 51
        }
      },
      "source": [
        "data = ImageList()\n",
        "images, _ = data.get_list_image('/content/cls_axiom/phase1')\n",
        "class_iteam = []\n",
        "for image_path in images:\n",
        "  class_ = image_path.split('/')[-3]\n",
        "  class_iteam.append(class_)\n",
        "import collections\n",
        "class_counter = collections.Counter(class_iteam)\n",
        "class_counter\n",
        "\n",
        "label = list(class_counter)\n",
        "num_class = len(class_counter)\n",
        "print('Num class : {}'.format(num_class))"
      ],
      "execution_count": 20,
      "outputs": [
        {
          "output_type": "stream",
          "text": [
            "file /content/cls_axiom/phase1/list_files.lst error.\n",
            "Num class : 10\n"
          ],
          "name": "stdout"
        }
      ]
    },
    {
      "cell_type": "code",
      "metadata": {
        "id": "fyJf6nOX71Pe",
        "colab_type": "code",
        "outputId": "f1f61299-c0a5-44cc-eb03-e97b4505c58f",
        "colab": {
          "base_uri": "https://localhost:8080/",
          "height": 71
        }
      },
      "source": [
        "label_to_code = {}\n",
        "for i,cls in enumerate(label):\n",
        "  label_to_code[cls] = i\n",
        "print(label_to_code)\n",
        "\n",
        "code = []\n",
        "for i in class_iteam:\n",
        "  code.append(label_to_code[i])\n",
        "print(code[0:5])"
      ],
      "execution_count": 21,
      "outputs": [
        {
          "output_type": "stream",
          "text": [
            "{'phao': 0, 'diu': 1, 'giuong': 2, 'may_hut_sua': 3, 'quay': 4, 'be_boi': 5, 'xe_day': 6, 'ghe_an': 7, 'noi': 8, 'tham': 9}\n",
            "[0, 0, 0, 0, 0]\n"
          ],
          "name": "stdout"
        }
      ]
    },
    {
      "cell_type": "code",
      "metadata": {
        "id": "dRNzm51rDZHL",
        "colab_type": "code",
        "outputId": "106ea435-aba2-4573-8b7b-ed9b073da5b2",
        "colab": {
          "base_uri": "https://localhost:8080/",
          "height": 136
        }
      },
      "source": [
        "code = np.array(code)\n",
        "code_onehot = (np.arange(num_class) == code[:,None]).astype(np.float32)\n",
        "# y_onehot = torch.from_numpy(y_onehot)\n",
        "print(code_onehot)"
      ],
      "execution_count": 22,
      "outputs": [
        {
          "output_type": "stream",
          "text": [
            "[[1. 0. 0. ... 0. 0. 0.]\n",
            " [1. 0. 0. ... 0. 0. 0.]\n",
            " [1. 0. 0. ... 0. 0. 0.]\n",
            " ...\n",
            " [0. 0. 0. ... 0. 0. 1.]\n",
            " [0. 0. 0. ... 0. 0. 1.]\n",
            " [0. 0. 0. ... 0. 0. 1.]]\n"
          ],
          "name": "stdout"
        }
      ]
    },
    {
      "cell_type": "code",
      "metadata": {
        "id": "Hm3Ljl106klh",
        "colab_type": "code",
        "colab": {}
      },
      "source": [
        "xTrain, xTest, yTrain, yTest = train_test_split(images, code_onehot,test_size = 0.2, random_state = 0)"
      ],
      "execution_count": 0,
      "outputs": []
    },
    {
      "cell_type": "code",
      "metadata": {
        "id": "FBMxV-No_1WA",
        "colab_type": "code",
        "outputId": "330de09d-7515-47ca-bf08-287951b1a7c8",
        "colab": {
          "base_uri": "https://localhost:8080/",
          "height": 51
        }
      },
      "source": [
        "print(xTest[0])\n",
        "print(yTest[0])"
      ],
      "execution_count": 24,
      "outputs": [
        {
          "output_type": "stream",
          "text": [
            "/content/cls_axiom/phase1/ghe_an/2291/4eed7e5dafaef1014c4d71e748f2825d_ghe_an_0.jpg\n",
            "[0. 0. 0. 0. 0. 0. 0. 1. 0. 0.]\n"
          ],
          "name": "stdout"
        }
      ]
    },
    {
      "cell_type": "code",
      "metadata": {
        "id": "D4tliyn2oQTy",
        "colab_type": "code",
        "colab": {}
      },
      "source": [
        "image_transforms = { \n",
        "    'train': transforms.Compose([\n",
        "        transforms.Resize(size=60),\n",
        "        transforms.CenterCrop(size=56),\n",
        "        transforms.ToTensor(),\n",
        "\n",
        "    ]),\n",
        "    'test': transforms.Compose([\n",
        "        transforms.Resize(size=60),\n",
        "        transforms.CenterCrop(size=56),\n",
        "        transforms.ToTensor(),\n",
        "    ])\n",
        "}"
      ],
      "execution_count": 0,
      "outputs": []
    },
    {
      "cell_type": "markdown",
      "metadata": {
        "id": "9iYcIK9_l83x",
        "colab_type": "text"
      },
      "source": [
        "## Pytorch"
      ]
    },
    {
      "cell_type": "code",
      "metadata": {
        "id": "dKGtCD7q93HI",
        "colab_type": "code",
        "outputId": "115f49f5-6a38-45ee-f832-09d280c708d0",
        "colab": {
          "base_uri": "https://localhost:8080/",
          "height": 34
        }
      },
      "source": [
        "# Batch size\n",
        "bs = 10\n",
        " \n",
        "# Number of classes\n",
        "num_classes = 10\n",
        "\n",
        "data = {\n",
        "    'train': ListDataset(xTrain, yTrain, transform=image_transforms['train']),\n",
        "    'test': ListDataset(xTest, yTest, transform=image_transforms['test']),\n",
        "}\n",
        "train_data_size = len(data['train'])\n",
        "test_data_size = len(data['test'])\n",
        "\n",
        "train_data_loader = DataLoader(data['train'], batch_size=bs, shuffle=True)\n",
        "test_data_loader = DataLoader(data['test'], batch_size=bs, shuffle=False)\n",
        "\n",
        "# Print the train, validation and test set data sizes\n",
        "train_data_size, test_data_size"
      ],
      "execution_count": 26,
      "outputs": [
        {
          "output_type": "execute_result",
          "data": {
            "text/plain": [
              "(3923, 981)"
            ]
          },
          "metadata": {
            "tags": []
          },
          "execution_count": 26
        }
      ]
    },
    {
      "cell_type": "code",
      "metadata": {
        "id": "M3x3d_9AGI4s",
        "colab_type": "code",
        "outputId": "eab51800-ee1d-4746-ff26-39ebfb94df42",
        "colab": {
          "base_uri": "https://localhost:8080/",
          "height": 153
        }
      },
      "source": [
        "net2 = Net([9408,30,10])\n",
        "print(net2)"
      ],
      "execution_count": 27,
      "outputs": [
        {
          "output_type": "stream",
          "text": [
            "Net(\n",
            "  (layers): Sequential(\n",
            "    (0): Linear(in_features=9408, out_features=30, bias=True)\n",
            "    (1): Sigmoid()\n",
            "    (2): Linear(in_features=30, out_features=10, bias=True)\n",
            "    (3): Sigmoid()\n",
            "  )\n",
            ")\n"
          ],
          "name": "stdout"
        }
      ]
    },
    {
      "cell_type": "code",
      "metadata": {
        "id": "Wk0jL22fWYe6",
        "colab_type": "code",
        "outputId": "5506ad66-36bc-41ee-b593-4770f44063c9",
        "colab": {
          "base_uri": "https://localhost:8080/",
          "height": 544
        }
      },
      "source": [
        "start = time.time()\n",
        "train(net2, train_data_loader, 30, 0.1, test_data_loader,'babyshop_pytorch')\n",
        "end = time.time()\n",
        "print('Time: {}'.format(end-start))"
      ],
      "execution_count": 28,
      "outputs": [
        {
          "output_type": "stream",
          "text": [
            "Epoch 0: acc = 0.41590214067278286 \n",
            "Epoch 1: acc = 0.41590214067278286 \n",
            "Epoch 2: acc = 0.5800203873598369 \n",
            "Epoch 3: acc = 0.5779816513761468 \n",
            "Epoch 4: acc = 0.5728848114169215 \n",
            "Epoch 5: acc = 0.5800203873598369 \n",
            "Epoch 6: acc = 0.5800203873598369 \n",
            "Epoch 7: acc = 0.583078491335372 \n",
            "Epoch 8: acc = 0.5932721712538226 \n",
            "Epoch 9: acc = 0.5953109072375128 \n",
            "Epoch 10: acc = 0.5800203873598369 \n",
            "Epoch 11: acc = 0.599388379204893 \n",
            "Epoch 12: acc = 0.5963302752293578 \n",
            "Epoch 13: acc = 0.6085626911314985 \n",
            "Epoch 14: acc = 0.6055045871559633 \n",
            "Epoch 15: acc = 0.6024464831804281 \n",
            "Epoch 16: acc = 0.6034658511722731 \n",
            "Epoch 17: acc = 0.6044852191641182 \n",
            "Epoch 18: acc = 0.6146788990825688 \n",
            "Epoch 19: acc = 0.6248725790010193 \n",
            "Epoch 20: acc = 0.6167176350662589 \n",
            "Epoch 21: acc = 0.6197757390417941 \n",
            "Epoch 22: acc = 0.5942915392456677 \n",
            "Epoch 23: acc = 0.6258919469928644 \n",
            "Epoch 24: acc = 0.6289500509683996 \n",
            "Epoch 25: acc = 0.6299694189602446 \n",
            "Epoch 26: acc = 0.6218144750254841 \n",
            "Epoch 27: acc = 0.6248725790010193 \n",
            "Epoch 28: acc = 0.6350662589194699 \n",
            "Epoch 29: acc = 0.6462793068297655 \n",
            "Time: 616.8415987491608\n"
          ],
          "name": "stdout"
        }
      ]
    },
    {
      "cell_type": "markdown",
      "metadata": {
        "id": "YcQI7CvCmO-3",
        "colab_type": "text"
      },
      "source": [
        "## Numpy\n"
      ]
    },
    {
      "cell_type": "code",
      "metadata": {
        "id": "47n4uVrlSlVB",
        "colab_type": "code",
        "colab": {}
      },
      "source": [
        "class LoadDataset():\n",
        "    def __init__(self,\n",
        "                 images_list,\n",
        "                 label,\n",
        "                 train = True,\n",
        "                 transform=None,\n",
        "                 loader=default_loader):\n",
        "        self.images_list = images_list\n",
        "        if train:\n",
        "          self.label = label.reshape(label.shape[0],label.shape[1],1)\n",
        "        else:\n",
        "          self.label = np.argmax(label, axis=1)\n",
        "        self.loader = loader\n",
        "        self.transform = transform\n",
        "\n",
        "    def get_item(self, index):\n",
        "        image_path = self.images_list[index]\n",
        "        image_label = self.label[index]\n",
        "        # image = self.loader(image_path)\n",
        "        image = Image.open(image_path).convert('RGB')\n",
        "        if self.transform is not None:\n",
        "            image = self.transform(image)\n",
        "        image = np.asarray(image).reshape(-1,1)\n",
        "        return (image, image_label)\n",
        "\n",
        "    def get_data(self):\n",
        "      list_data = []\n",
        "      for i in range(len(self.images_list)):\n",
        "        list_data.append(self.get_item(i))\n",
        "      return list_data"
      ],
      "execution_count": 0,
      "outputs": []
    },
    {
      "cell_type": "code",
      "metadata": {
        "id": "sdnOVDYXz2PY",
        "colab_type": "code",
        "colab": {}
      },
      "source": [
        "a = LoadDataset(xTest,yTest,False,transform=image_transforms['test'])\n",
        "test_data_load = a.get_data()\n",
        "b = LoadDataset(xTrain,yTrain,True,transform=image_transforms['train'])\n",
        "train_data_load = b.get_data()\n"
      ],
      "execution_count": 0,
      "outputs": []
    },
    {
      "cell_type": "code",
      "metadata": {
        "id": "wkXoHlKYmn6r",
        "colab_type": "code",
        "outputId": "490fb3c1-d3a0-461a-d462-7d69980e2f08",
        "colab": {
          "base_uri": "https://localhost:8080/",
          "height": 306
        }
      },
      "source": [
        "print(train_data_load[0])\n",
        "print(len(train_data_load[0][0]))"
      ],
      "execution_count": 31,
      "outputs": [
        {
          "output_type": "stream",
          "text": [
            "(array([[0.41960785],\n",
            "       [0.39215687],\n",
            "       [0.2784314 ],\n",
            "       ...,\n",
            "       [0.7294118 ],\n",
            "       [0.70980394],\n",
            "       [0.6627451 ]], dtype=float32), array([[0.],\n",
            "       [0.],\n",
            "       [0.],\n",
            "       [0.],\n",
            "       [0.],\n",
            "       [0.],\n",
            "       [1.],\n",
            "       [0.],\n",
            "       [0.],\n",
            "       [0.]], dtype=float32))\n",
            "9408\n"
          ],
          "name": "stdout"
        }
      ]
    },
    {
      "cell_type": "code",
      "metadata": {
        "id": "v-GCjwrrrNyd",
        "colab_type": "code",
        "outputId": "c79b2df8-a659-40ec-ae3b-a169c95eec92",
        "colab": {
          "base_uri": "https://localhost:8080/",
          "height": 544
        }
      },
      "source": [
        "network2 = Network([9408,30,10])\n",
        "start = time.time()\n",
        "network2.SGD(train_data_load, 30, 10, 0.1,test_data=test_data_load,key ='babyshop_numpy')\n",
        "end = time.time()\n",
        "print('Time: {}'.format(end-start))"
      ],
      "execution_count": 32,
      "outputs": [
        {
          "output_type": "stream",
          "text": [
            "Epoch 0: acc = 0.49337410805300713\n",
            "Epoch 1: acc = 0.5168195718654435\n",
            "Epoch 2: acc = 0.5504587155963303\n",
            "Epoch 3: acc = 0.5626911314984709\n",
            "Epoch 4: acc = 0.5575942915392457\n",
            "Epoch 5: acc = 0.5688073394495413\n",
            "Epoch 6: acc = 0.5708460754332314\n",
            "Epoch 7: acc = 0.5657492354740061\n",
            "Epoch 8: acc = 0.582059123343527\n",
            "Epoch 9: acc = 0.5800203873598369\n",
            "Epoch 10: acc = 0.582059123343527\n",
            "Epoch 11: acc = 0.581039755351682\n",
            "Epoch 12: acc = 0.583078491335372\n",
            "Epoch 13: acc = 0.5902140672782875\n",
            "Epoch 14: acc = 0.5922528032619776\n",
            "Epoch 15: acc = 0.5922528032619776\n",
            "Epoch 16: acc = 0.5912334352701325\n",
            "Epoch 17: acc = 0.5942915392456677\n",
            "Epoch 18: acc = 0.5922528032619776\n",
            "Epoch 19: acc = 0.5963302752293578\n",
            "Epoch 20: acc = 0.5973496432212029\n",
            "Epoch 21: acc = 0.599388379204893\n",
            "Epoch 22: acc = 0.601427115188583\n",
            "Epoch 23: acc = 0.601427115188583\n",
            "Epoch 24: acc = 0.6044852191641182\n",
            "Epoch 25: acc = 0.6024464831804281\n",
            "Epoch 26: acc = 0.6044852191641182\n",
            "Epoch 27: acc = 0.6044852191641182\n",
            "Epoch 28: acc = 0.6044852191641182\n",
            "Epoch 29: acc = 0.6024464831804281\n",
            "Time: 195.37488842010498\n"
          ],
          "name": "stdout"
        }
      ]
    },
    {
      "cell_type": "code",
      "metadata": {
        "id": "4MuSPH5YHbPI",
        "colab_type": "code",
        "colab": {
          "base_uri": "https://localhost:8080/",
          "height": 54
        },
        "outputId": "6615736f-7f2e-4214-d871-cd99b6f38543"
      },
      "source": [
        "print(accuracy)"
      ],
      "execution_count": 33,
      "outputs": [
        {
          "output_type": "stream",
          "text": [
            "{'mnist_numpy': [0.5868, 0.7336, 0.8045, 0.8388, 0.8579, 0.8683, 0.8758, 0.8824, 0.8863, 0.8909, 0.8924, 0.8953, 0.8987, 0.9008, 0.9026, 0.905, 0.9065, 0.9094, 0.9101, 0.9119, 0.9133, 0.9138, 0.9154, 0.9163, 0.9173, 0.9177, 0.9198, 0.9205, 0.9212, 0.9224], 'mnist_pytorch': [0.3204, 0.4192, 0.4888, 0.5375, 0.6117, 0.6806, 0.731, 0.762, 0.7909, 0.8183, 0.8366, 0.8489, 0.8617, 0.869, 0.8752, 0.8809, 0.8848, 0.8866, 0.8904, 0.8927, 0.8942, 0.8953, 0.8975, 0.8989, 0.9014, 0.9028, 0.9041, 0.907, 0.9081, 0.9075], 'babyshop_pytorch': [0.41590214067278286, 0.41590214067278286, 0.5800203873598369, 0.5779816513761468, 0.5728848114169215, 0.5800203873598369, 0.5800203873598369, 0.583078491335372, 0.5932721712538226, 0.5953109072375128, 0.5800203873598369, 0.599388379204893, 0.5963302752293578, 0.6085626911314985, 0.6055045871559633, 0.6024464831804281, 0.6034658511722731, 0.6044852191641182, 0.6146788990825688, 0.6248725790010193, 0.6167176350662589, 0.6197757390417941, 0.5942915392456677, 0.6258919469928644, 0.6289500509683996, 0.6299694189602446, 0.6218144750254841, 0.6248725790010193, 0.6350662589194699, 0.6462793068297655], 'babyshop_numpy': [0.49337410805300713, 0.5168195718654435, 0.5504587155963303, 0.5626911314984709, 0.5575942915392457, 0.5688073394495413, 0.5708460754332314, 0.5657492354740061, 0.582059123343527, 0.5800203873598369, 0.582059123343527, 0.581039755351682, 0.583078491335372, 0.5902140672782875, 0.5922528032619776, 0.5922528032619776, 0.5912334352701325, 0.5942915392456677, 0.5922528032619776, 0.5963302752293578, 0.5973496432212029, 0.599388379204893, 0.601427115188583, 0.601427115188583, 0.6044852191641182, 0.6024464831804281, 0.6044852191641182, 0.6044852191641182, 0.6044852191641182, 0.6024464831804281]}\n"
          ],
          "name": "stdout"
        }
      ]
    },
    {
      "cell_type": "code",
      "metadata": {
        "id": "2zzQQQ1GIeko",
        "colab_type": "code",
        "colab": {
          "base_uri": "https://localhost:8080/",
          "height": 283
        },
        "outputId": "8bf19407-4429-4247-e038-5fa3dbc6c6b8"
      },
      "source": [
        "acc = []\n",
        "for i,j in zip(accuracy['mnist_numpy'],accuracy['mnist_pytorch']):\n",
        "  acc.append([i,j])\n",
        "plt.plot(acc)\n",
        "plt.legend(['mnist_numpy accuracy', 'mnist_pytorch accuracy'])\n",
        "plt.xlabel('Epoch Number')\n",
        "plt.ylabel('Accuracy')\n",
        "plt.ylim(0,1)\n",
        "plt.savefig('accuracy_curve.png')\n",
        "plt.show()"
      ],
      "execution_count": 34,
      "outputs": [
        {
          "output_type": "display_data",
          "data": {
            "image/png": "[encoded data removed]",
            "text/plain": [
              "<Figure size 432x288 with 1 Axes>"
            ]
          },
          "metadata": {
            "tags": [],
            "needs_background": "light"
          }
        }
      ]
    },
    {
      "cell_type": "code",
      "metadata": {
        "id": "lcTpFHo_ES6r",
        "colab_type": "code",
        "colab": {
          "base_uri": "https://localhost:8080/",
          "height": 283
        },
        "outputId": "63e48420-a05a-4350-f367-dfb0041e971b"
      },
      "source": [
        "acc = []\n",
        "for i,j in zip(accuracy['babyshop_numpy'],accuracy['babyshop_pytorch']):\n",
        "  acc.append([i,j])\n",
        "plt.plot(acc)\n",
        "plt.legend(['babyshop_numpy Accuracy', 'babyshop_pytorch Accuracy'])\n",
        "plt.xlabel('Epoch Number')\n",
        "plt.ylabel('Accuracy')\n",
        "plt.ylim(0,1)\n",
        "plt.savefig('accuracy_curve.png')\n",
        "plt.show()"
      ],
      "execution_count": 35,
      "outputs": [
        {
          "output_type": "display_data",
          "data": {
            "image/png": "[encoded data removed]",
            "text/plain": [
              "<Figure size 432x288 with 1 Axes>"
            ]
          },
          "metadata": {
            "tags": [],
            "needs_background": "light"
          }
        }
      ]
    }
  ]
}